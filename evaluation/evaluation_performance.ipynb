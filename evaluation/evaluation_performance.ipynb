{
 "cells": [
  {
   "cell_type": "code",
   "execution_count": 1,
   "id": "a3166508dc83eaec",
   "metadata": {
    "ExecuteTime": {
     "end_time": "2023-08-12T10:39:27.116679325Z",
     "start_time": "2023-08-12T10:39:26.938981658Z"
    },
    "collapsed": false
   },
   "outputs": [],
   "source": [
    "import pandas as pd\n",
    "import os \n",
    "import json \n",
    "\n",
    "from IPython.display import display"
   ]
  },
  {
   "cell_type": "markdown",
   "id": "82d4dd20e1e1e0e6",
   "metadata": {
    "collapsed": false
   },
   "source": [
    "# Performance Metrics\n",
    "\n",
    "The best and worst configurations results for classification performance metrics can be seen here. Currently, only the best results are printed, but if you are interested, you can use `get_worst_result()` method to see the worst configurations. "
   ]
  },
  {
   "cell_type": "code",
   "execution_count": 2,
   "id": "initial_id",
   "metadata": {
    "ExecuteTime": {
     "end_time": "2023-08-12T10:39:27.122650728Z",
     "start_time": "2023-08-12T10:39:27.121286617Z"
    },
    "collapsed": false
   },
   "outputs": [],
   "source": [
    "def get_best_result(df: pd.DataFrame, key: str = None):\n",
    "    if key == 'sensitivity':\n",
    "        df = df[df['youden'] > 0.5]\n",
    "        idx = df[key].idxmax()\n",
    "    elif key == 'specificity':\n",
    "        df = df[df['youden'] > 0.5]\n",
    "        idx = df[key].idxmax()\n",
    "    else:\n",
    "        idx = df[key].idxmax()\n",
    "    best_result = df.loc[idx]\n",
    "    return best_result\n",
    "\n",
    "def get_worst_result(df: pd.DataFrame, key: str):\n",
    "    idx = df[key].idxmin()\n",
    "    worst_result = df.loc[idx]\n",
    "    return worst_result\n",
    "\n",
    "def extract_config(df_line: pd.DataFrame):\n",
    "    df_line = df_line[['config_hash_code',\n",
    "                       'projection_method',\n",
    "                       'thickness',\n",
    "                       'overlap',\n",
    "                       'breast_skin_removal',\n",
    "                       'top',\n",
    "                       'op_shift']]\n",
    "    return df_line"
   ]
  },
  {
   "cell_type": "markdown",
   "id": "989ebe64e7b22861",
   "metadata": {
    "collapsed": false
   },
   "source": [
    "## Best Configuration Results\n",
    "\n",
    "### Load your performance metrics CSV file \n",
    "\n",
    "All performance metrics are saved in `performance_metrics-full.csv`. You can change it the file path here. "
   ]
  },
  {
   "cell_type": "code",
   "execution_count": 3,
   "id": "c63512aeacdbf31",
   "metadata": {
    "ExecuteTime": {
     "end_time": "2023-08-12T10:39:27.128557268Z",
     "start_time": "2023-08-12T10:39:27.121590634Z"
    },
    "collapsed": false
   },
   "outputs": [],
   "source": [
    "cur_dir = os.getcwd()\n",
    "metrics_dir = os.path.join(cur_dir, 'metrics')\n",
    "csv_filepath = os.path.join(metrics_dir, f'performance_metrics-full.csv')\n",
    "df = pd.read_csv(csv_filepath)"
   ]
  },
  {
   "cell_type": "markdown",
   "id": "cb704f9967eafb04",
   "metadata": {
    "collapsed": false
   },
   "source": [
    "### Save the list of SeriesInstanceUIDs and corresponding configurations\n",
    "\n",
    "The predictions results are saved under `data\\output\\predictions` in JSON files. First, the file names are read and saved as configuration hash codes. Secondly, each file has a list of DICOM files with SeriesInstanceUIDs. "
   ]
  },
  {
   "cell_type": "code",
   "execution_count": 4,
   "id": "83d0afd67c963b80",
   "metadata": {
    "ExecuteTime": {
     "end_time": "2023-08-12T10:39:27.136685808Z",
     "start_time": "2023-08-12T10:39:27.130632349Z"
    },
    "collapsed": false
   },
   "outputs": [],
   "source": [
    "def list_predictions(pred_dir): \n",
    "    # To extract config hash code later \n",
    "    filename = 'predictions_'\n",
    "    extension = '.json'\n",
    "    \n",
    "    preds = {}\n",
    "    for root, dirs, files in os.walk(pred_dir):\n",
    "        for pred_file in files:\n",
    "            # Extract config hash code \n",
    "            config_hash_code = pred_file[len(filename):-len(extension)]\n",
    "            \n",
    "            pred_filepath = os.path.join(pred_dir, pred_file)\n",
    "            with open(pred_filepath, 'r') as file:\n",
    "                pred_dict = json.load(file)\n",
    "                series_instance_uids = set(pred_dict.keys())\n",
    "                preds[config_hash_code] = series_instance_uids\n",
    "        break  # Stop iteration after the first level\n",
    "    return preds, len(files)"
   ]
  },
  {
   "cell_type": "markdown",
   "id": "c0e0611797c4baa1",
   "metadata": {
    "collapsed": false
   },
   "source": [
    "Invert the predictions dictionary such that each key is the SeriesInstanceUID and the value is the list of config hash codes. "
   ]
  },
  {
   "cell_type": "code",
   "execution_count": 5,
   "id": "2a5ebce9ffa80d4c",
   "metadata": {
    "ExecuteTime": {
     "end_time": "2023-08-12T10:39:27.136938408Z",
     "start_time": "2023-08-12T10:39:27.135247877Z"
    },
    "collapsed": false
   },
   "outputs": [],
   "source": [
    "def invert_dict(original_dict):\n",
    "    inverted_dict = {}\n",
    "    for key, value_list in original_dict.items():\n",
    "        for value in value_list:\n",
    "            if value not in inverted_dict:\n",
    "                inverted_dict[value] = [key]\n",
    "            elif key not in inverted_dict[value]:\n",
    "                inverted_dict[value].append(key)\n",
    "    return inverted_dict"
   ]
  },
  {
   "cell_type": "code",
   "execution_count": 6,
   "id": "cdcc3eb1d102d888",
   "metadata": {
    "ExecuteTime": {
     "end_time": "2023-08-12T10:39:28.038389418Z",
     "start_time": "2023-08-12T10:39:27.138404633Z"
    },
    "collapsed": false
   },
   "outputs": [],
   "source": [
    "# Predictions contain benign, cancer, normal, and actionable \n",
    "preds, config_num = list_predictions(pred_dir=os.path.join(cur_dir, 'data/output/predictions'))\n",
    "preds = invert_dict(preds)\n",
    "series_instance_uids = list(preds.keys())"
   ]
  },
  {
   "cell_type": "code",
   "execution_count": 7,
   "id": "cd02ad84b476c7bb",
   "metadata": {
    "ExecuteTime": {
     "end_time": "2023-08-12T10:39:28.635376355Z",
     "start_time": "2023-08-12T10:39:28.039966283Z"
    },
    "collapsed": false
   },
   "outputs": [],
   "source": [
    "from program.performance_metrics import PerformanceMetrics\n",
    "import yaml \n",
    "\n",
    "with open('config/dataset.yaml', 'r') as file:\n",
    "    dataset_config = yaml.load(file, Loader=yaml.FullLoader)\n",
    "\n",
    "with open('config/settings.yaml', 'r') as file:\n",
    "    settings_config = yaml.load(file, Loader=yaml.FullLoader)\n",
    "\n",
    "# Replace $ROOT$ placeholder by the provided --root value\n",
    "for config in [settings_config, dataset_config]:\n",
    "    for cfg in config:\n",
    "        if isinstance(config[cfg], str) and '$ROOT$' in config[cfg]:\n",
    "            config[cfg] = config[cfg].replace('$ROOT$', cur_dir)\n",
    "\n",
    "perf_metrics = PerformanceMetrics(dataset_config=dataset_config, settings_config=settings_config)\n",
    "perf_metrics.init()"
   ]
  },
  {
   "cell_type": "code",
   "execution_count": 8,
   "id": "34d407f1b8ad2b62",
   "metadata": {
    "ExecuteTime": {
     "end_time": "2023-08-12T10:39:28.677904570Z",
     "start_time": "2023-08-12T10:39:28.639750554Z"
    },
    "collapsed": false
   },
   "outputs": [],
   "source": [
    "# Filter out the DBT volumes with \"actionable\" label \n",
    "labels = ['normal', 'benign', 'cancer']\n",
    "\n",
    "def filter_preds(labels, series_instance_uids):\n",
    "    filtered_series = perf_metrics.filter_series(dataset='train', \n",
    "                                                 labels=labels,\n",
    "                                                 series_instance_uids=series_instance_uids)\n",
    "    filtered_series_instance_uids = filtered_series['SeriesInstanceUID'].to_list()\n",
    "    filtered_preds = {key: value for key, value in preds.items() if key in filtered_series_instance_uids}\n",
    "    return filtered_preds\n",
    "        \n",
    "filtered_preds_all = filter_preds(labels, series_instance_uids)"
   ]
  },
  {
   "cell_type": "code",
   "execution_count": 9,
   "id": "f3f497d5bf53dfd1",
   "metadata": {
    "ExecuteTime": {
     "end_time": "2023-08-12T10:39:28.727030528Z",
     "start_time": "2023-08-12T10:39:28.681637491Z"
    },
    "collapsed": false
   },
   "outputs": [
    {
     "name": "stdout",
     "output_type": "stream",
     "text": [
      "--------------Configurations--------------\n",
      "Number of configurations:  24 \n",
      "\n",
      "-----------------Dataset------------------\n",
      "Number of DICOM files:  1880\n",
      "Number of normal DBT images:  1680\n",
      "Number of benign DBT images:  124\n",
      "Number of cancer DBT images:  76\n"
     ]
    }
   ],
   "source": [
    "print('--------------Configurations--------------')\n",
    "print('Number of configurations: ', config_num, '\\n')\n",
    "\n",
    "print('-----------------Dataset------------------')\n",
    "print('Number of DICOM files: ', len(filtered_preds_all))\n",
    "\n",
    "for label in labels:        \n",
    "    print(f'Number of {label} DBT images: ', len(filter_preds([label], series_instance_uids)))"
   ]
  },
  {
   "cell_type": "code",
   "execution_count": 10,
   "id": "3e3a8ffda0400d65",
   "metadata": {
    "ExecuteTime": {
     "end_time": "2023-08-12T10:39:28.743078062Z",
     "start_time": "2023-08-12T10:39:28.728348993Z"
    },
    "collapsed": false
   },
   "outputs": [],
   "source": [
    "performance_metrics_filepath = os.path.join(metrics_dir, 'performance_metrics_dicom_list.json')\n",
    "with open(performance_metrics_filepath, 'w') as file:\n",
    "    json.dump(filtered_preds_all, file, indent=4)"
   ]
  },
  {
   "cell_type": "markdown",
   "id": "41fad253e09de446",
   "metadata": {
    "collapsed": false
   },
   "source": [
    "### 1. Sensitivity & Specificity\n",
    "For sensitivity and specificity, we are looking at the results which have Youden metric larger than 0.5. Youden metric is a compromise between sensitivity and specificity. \n",
    "\n",
    "$$J = sensitivitiy + specificity - 1$$"
   ]
  },
  {
   "cell_type": "code",
   "execution_count": 11,
   "id": "3bd3b2873a50a791",
   "metadata": {
    "ExecuteTime": {
     "end_time": "2023-08-12T10:39:28.784741645Z",
     "start_time": "2023-08-12T10:39:28.743646301Z"
    },
    "collapsed": false
   },
   "outputs": [],
   "source": [
    "# print(df.head(5))"
   ]
  },
  {
   "cell_type": "code",
   "execution_count": 12,
   "id": "e75e7cdd08a84faf",
   "metadata": {
    "ExecuteTime": {
     "end_time": "2023-08-12T10:39:28.785245732Z",
     "start_time": "2023-08-12T10:39:28.784606979Z"
    },
    "collapsed": false
   },
   "outputs": [
    {
     "data": {
      "text/plain": [
       "config_hash_code       723f00a764c4e6d58e49bb4c5860af3b\n",
       "projection_method                              soft_mip\n",
       "thickness                                            14\n",
       "overlap                                               7\n",
       "breast_skin_removal                                   1\n",
       "top                                                   3\n",
       "op_shift                                            0.1\n",
       "Name: 279, dtype: object"
      ]
     },
     "metadata": {},
     "output_type": "display_data"
    },
    {
     "name": "stdout",
     "output_type": "stream",
     "text": [
      "Best sensitivity value:  0.921052632\n"
     ]
    }
   ],
   "source": [
    "best_sensitivity = get_best_result(df, key='sensitivity')\n",
    "display(extract_config(best_sensitivity))\n",
    "print(\"Best sensitivity value: \", best_sensitivity['sensitivity'])"
   ]
  },
  {
   "cell_type": "code",
   "execution_count": 13,
   "id": "5c4e52741e46db34",
   "metadata": {
    "ExecuteTime": {
     "end_time": "2023-08-12T10:39:28.786156753Z",
     "start_time": "2023-08-12T10:39:28.784852064Z"
    },
    "collapsed": false
   },
   "outputs": [
    {
     "data": {
      "text/plain": [
       "config_hash_code       44ed11e82d9ff1a2fa57dd54b9abc3ca\n",
       "projection_method                                   aip\n",
       "thickness                                             8\n",
       "overlap                                               4\n",
       "breast_skin_removal                                   0\n",
       "top                                                   3\n",
       "op_shift                                          0.325\n",
       "Name: 1034, dtype: object"
      ]
     },
     "metadata": {},
     "output_type": "display_data"
    },
    {
     "name": "stdout",
     "output_type": "stream",
     "text": [
      "Best specificity value:  0.969512195\n"
     ]
    }
   ],
   "source": [
    "best_specificity = get_best_result(df, key='specificity')\n",
    "display(extract_config(best_specificity))\n",
    "print(\"Best specificity value: \", best_specificity['specificity'])"
   ]
  },
  {
   "cell_type": "markdown",
   "id": "7bb3a2cac3960d2e",
   "metadata": {
    "collapsed": false
   },
   "source": [
    "### 2. Youden"
   ]
  },
  {
   "cell_type": "code",
   "execution_count": 14,
   "id": "d800b5f83d17057d",
   "metadata": {
    "ExecuteTime": {
     "end_time": "2023-08-12T10:39:28.786853897Z",
     "start_time": "2023-08-12T10:39:28.784961132Z"
    },
    "collapsed": false
   },
   "outputs": [
    {
     "data": {
      "text/plain": [
       "config_hash_code       61222f22071d5999c98d26eea4638834\n",
       "projection_method                              soft_mip\n",
       "thickness                                             6\n",
       "overlap                                               0\n",
       "breast_skin_removal                                   0\n",
       "top                                                   1\n",
       "op_shift                                            0.3\n",
       "Name: 783, dtype: object"
      ]
     },
     "metadata": {},
     "output_type": "display_data"
    },
    {
     "name": "stdout",
     "output_type": "stream",
     "text": [
      "Best youden value:  0.670702532\n"
     ]
    }
   ],
   "source": [
    "best_youden = get_best_result(df, key='youden')\n",
    "display(extract_config(best_youden))\n",
    "print(\"Best youden value: \", best_youden['youden'])"
   ]
  },
  {
   "cell_type": "markdown",
   "id": "105144ab94b3bf32",
   "metadata": {
    "collapsed": false
   },
   "source": [
    "### 3. Accuracy Score"
   ]
  },
  {
   "cell_type": "code",
   "execution_count": 15,
   "id": "a6edc4347bbeed84",
   "metadata": {
    "ExecuteTime": {
     "end_time": "2023-08-12T10:39:28.787539830Z",
     "start_time": "2023-08-12T10:39:28.785041073Z"
    },
    "collapsed": false
   },
   "outputs": [
    {
     "data": {
      "text/plain": [
       "config_hash_code       118fbb88b272fdcffc902dfdeef0b802\n",
       "projection_method                                   mip\n",
       "thickness                                            14\n",
       "overlap                                               7\n",
       "breast_skin_removal                                   0\n",
       "top                                                   3\n",
       "op_shift                                          0.375\n",
       "Name: 1328, dtype: object"
      ]
     },
     "metadata": {},
     "output_type": "display_data"
    },
    {
     "name": "stdout",
     "output_type": "stream",
     "text": [
      "Best accuracy value:  0.963829787\n"
     ]
    }
   ],
   "source": [
    "best_accuracy_score = get_best_result(df, key='accuracy_score')\n",
    "display(extract_config(best_accuracy_score))\n",
    "print(\"Best accuracy value: \", best_accuracy_score['accuracy_score'])"
   ]
  },
  {
   "cell_type": "markdown",
   "id": "7d47fb772e3f38ff",
   "metadata": {
    "collapsed": false
   },
   "source": [
    "### 4. Area under the ROC Curve\n"
   ]
  },
  {
   "cell_type": "code",
   "execution_count": 16,
   "id": "26695c05741af1a0",
   "metadata": {
    "ExecuteTime": {
     "end_time": "2023-08-12T10:39:28.787793572Z",
     "start_time": "2023-08-12T10:39:28.785192671Z"
    },
    "collapsed": false
   },
   "outputs": [
    {
     "data": {
      "text/plain": [
       "config_hash_code       65c28bee8dfe5ba35701b66636682dd9\n",
       "projection_method                                   aip\n",
       "thickness                                             8\n",
       "overlap                                               4\n",
       "breast_skin_removal                                   1\n",
       "top                                                   3\n",
       "op_shift                                            0.0\n",
       "Name: 122, dtype: object"
      ]
     },
     "metadata": {},
     "output_type": "display_data"
    },
    {
     "name": "stdout",
     "output_type": "stream",
     "text": [
      "Best AUC ROC value:  0.87839888\n"
     ]
    }
   ],
   "source": [
    "best_auc = get_best_result(df, key='auc')\n",
    "display(extract_config(best_auc))\n",
    "print(\"Best AUC ROC value: \", best_auc['auc'])"
   ]
  },
  {
   "cell_type": "markdown",
   "id": "caa81b11961241fe",
   "metadata": {
    "collapsed": false
   },
   "source": [
    "## Worst Configuration Results"
   ]
  },
  {
   "cell_type": "markdown",
   "id": "64479e3d75776e05",
   "metadata": {
    "collapsed": false
   },
   "source": [
    "### 1. Sensitivity & Specificity"
   ]
  },
  {
   "cell_type": "code",
   "execution_count": 17,
   "id": "699f5399d6254327",
   "metadata": {
    "ExecuteTime": {
     "end_time": "2023-08-12T10:39:28.788425162Z",
     "start_time": "2023-08-12T10:39:28.785318941Z"
    },
    "collapsed": false
   },
   "outputs": [
    {
     "data": {
      "text/plain": [
       "config_hash_code       495d15cd74891936bc1c8f70eae7e2cb\n",
       "projection_method                                   aip\n",
       "thickness                                            14\n",
       "overlap                                               0\n",
       "breast_skin_removal                                   0\n",
       "top                                                   3\n",
       "op_shift                                          0.375\n",
       "Name: 1341, dtype: object"
      ]
     },
     "metadata": {},
     "output_type": "display_data"
    },
    {
     "name": "stdout",
     "output_type": "stream",
     "text": [
      "Worst sensitivity value:  0.0\n"
     ]
    }
   ],
   "source": [
    "worst_sensitivity = get_worst_result(df, key='sensitivity')\n",
    "display(extract_config(worst_sensitivity))\n",
    "print(\"Worst sensitivity value: \", worst_sensitivity['sensitivity'])"
   ]
  },
  {
   "cell_type": "code",
   "execution_count": 18,
   "id": "f5857a75befd1438",
   "metadata": {
    "ExecuteTime": {
     "end_time": "2023-08-12T10:39:28.788655700Z",
     "start_time": "2023-08-12T10:39:28.785396088Z"
    },
    "collapsed": false
   },
   "outputs": [
    {
     "data": {
      "text/plain": [
       "config_hash_code       01cf1a3db9ec88e8ef8f0893d9dd6fb3\n",
       "projection_method                                   aip\n",
       "thickness                                            12\n",
       "overlap                                               6\n",
       "breast_skin_removal                                   1\n",
       "top                                                   1\n",
       "op_shift                                           -0.2\n",
       "Name: 1762, dtype: object"
      ]
     },
     "metadata": {},
     "output_type": "display_data"
    },
    {
     "name": "stdout",
     "output_type": "stream",
     "text": [
      "Worst specificity value:  0.0\n"
     ]
    }
   ],
   "source": [
    "worst_specificity = get_worst_result(df, key='specificity')\n",
    "display(extract_config(worst_specificity))\n",
    "print(\"Worst specificity value: \", worst_specificity['specificity'])"
   ]
  },
  {
   "cell_type": "markdown",
   "id": "58e45c4a18a31463",
   "metadata": {
    "collapsed": false
   },
   "source": [
    "### 2. Yoden"
   ]
  },
  {
   "cell_type": "code",
   "execution_count": 19,
   "id": "c8432ca3743a4f75",
   "metadata": {
    "ExecuteTime": {
     "end_time": "2023-08-12T10:39:28.790237524Z",
     "start_time": "2023-08-12T10:39:28.785518390Z"
    },
    "collapsed": false
   },
   "outputs": [
    {
     "data": {
      "text/plain": [
       "config_hash_code       f83058018babfef646d054c91fc4e2ce\n",
       "projection_method                              soft_mip\n",
       "thickness                                            10\n",
       "overlap                                               0\n",
       "breast_skin_removal                                   1\n",
       "top                                                   3\n",
       "op_shift                                            0.4\n",
       "Name: 1527, dtype: object"
      ]
     },
     "metadata": {},
     "output_type": "display_data"
    },
    {
     "name": "stdout",
     "output_type": "stream",
     "text": [
      "Worst youden value:  -0.003880266\n"
     ]
    }
   ],
   "source": [
    "worst_youden = get_worst_result(df, key='youden')\n",
    "display(extract_config(worst_youden))\n",
    "print(\"Worst youden value: \", worst_youden['youden'])"
   ]
  },
  {
   "cell_type": "markdown",
   "id": "3779add25dd54c7",
   "metadata": {
    "collapsed": false
   },
   "source": [
    "### 3. Accuracy Score"
   ]
  },
  {
   "cell_type": "code",
   "execution_count": 20,
   "id": "3f3c8851ce57043",
   "metadata": {
    "ExecuteTime": {
     "end_time": "2023-08-12T10:39:28.878766852Z",
     "start_time": "2023-08-12T10:39:28.789806686Z"
    },
    "collapsed": false
   },
   "outputs": [
    {
     "data": {
      "text/plain": [
       "config_hash_code       01cf1a3db9ec88e8ef8f0893d9dd6fb3\n",
       "projection_method                                   aip\n",
       "thickness                                            12\n",
       "overlap                                               6\n",
       "breast_skin_removal                                   1\n",
       "top                                                   1\n",
       "op_shift                                           -0.2\n",
       "Name: 1762, dtype: object"
      ]
     },
     "metadata": {},
     "output_type": "display_data"
    },
    {
     "name": "stdout",
     "output_type": "stream",
     "text": [
      "Worst accuracy value:  0.040425532\n"
     ]
    }
   ],
   "source": [
    "worst_accuracy_score = get_worst_result(df, key='accuracy_score')\n",
    "display(extract_config(worst_accuracy_score))\n",
    "print(\"Worst accuracy value: \", worst_accuracy_score['accuracy_score'])"
   ]
  },
  {
   "cell_type": "markdown",
   "id": "909cd8bde7cd9aea",
   "metadata": {
    "collapsed": false
   },
   "source": [
    "### 4. Area under the ROC Curve"
   ]
  },
  {
   "cell_type": "code",
   "execution_count": 21,
   "id": "3a4e85374035fa8",
   "metadata": {
    "ExecuteTime": {
     "end_time": "2023-08-12T10:39:28.879050370Z",
     "start_time": "2023-08-12T10:39:28.830951964Z"
    },
    "collapsed": false
   },
   "outputs": [
    {
     "data": {
      "text/plain": [
       "config_hash_code       2a4f51daa7b0e83dfe49f85ecb26becf\n",
       "projection_method                                   aip\n",
       "thickness                                            14\n",
       "overlap                                               0\n",
       "breast_skin_removal                                   1\n",
       "top                                                   1\n",
       "op_shift                                            0.0\n",
       "Name: 9, dtype: object"
      ]
     },
     "metadata": {},
     "output_type": "display_data"
    },
    {
     "name": "stdout",
     "output_type": "stream",
     "text": [
      "Worst AUC ROC value:  0.818604855\n"
     ]
    }
   ],
   "source": [
    "worst_auc = get_worst_result(df, key='auc')\n",
    "display(extract_config(worst_auc))\n",
    "print(\"Worst AUC ROC value: \", worst_auc['auc'])"
   ]
  }
 ],
 "metadata": {
  "kernelspec": {
   "display_name": "Python 3",
   "language": "python",
   "name": "python3"
  },
  "language_info": {
   "codemirror_mode": {
    "name": "ipython",
    "version": 2
   },
   "file_extension": ".py",
   "mimetype": "text/x-python",
   "name": "python",
   "nbconvert_exporter": "python",
   "pygments_lexer": "ipython2",
   "version": "2.7.6"
  }
 },
 "nbformat": 4,
 "nbformat_minor": 5
}
